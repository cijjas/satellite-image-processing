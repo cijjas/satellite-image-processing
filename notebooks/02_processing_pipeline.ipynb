{
 "cells": [
  {
   "cell_type": "code",
   "execution_count": 1,
   "id": "619793b2",
   "metadata": {},
   "outputs": [
    {
     "name": "stderr",
     "output_type": "stream",
     "text": [
      "/Users/chrisijjas/Desktop/itba/satellite-image-processing/sat/lib/python3.13/site-packages/geemap/conversion.py:23: UserWarning: pkg_resources is deprecated as an API. See https://setuptools.pypa.io/en/latest/pkg_resources.html. The pkg_resources package is slated for removal as early as 2025-11-30. Refrain from using this package or pin to Setuptools<81.\n",
      "  import pkg_resources\n"
     ]
    }
   ],
   "source": [
    "# ──────────────────────────────────────────────────────────────\n",
    "# BLOQUE 1 — CARGAR LIBRERIAS Y PARAMETROS DE USUARIO\n",
    "# ──────────────────────────────────────────────────────────────\n",
    "\n",
    "import os\n",
    "import json\n",
    "import ee\n",
    "import geemap\n",
    "import geopandas as gpd\n",
    "import pandas as pd\n",
    "from datetime import date\n",
    "from datetime import datetime\n",
    "\n",
    "# ▸ Parametros que puedes editar:\n",
    "AOI_GEOJSON   = '../data/geojson/campo-bruzo.geojson'   # ← geojson del AOI\n",
    "DATE_START    = '2024-01-01'                           # ← fecha inicial\n",
    "DATE_END      = date.today().strftime('%Y-%m-%d')      # ← fecha final\n",
    "CLOUD_MAX_PCT = 5                                      # ← % nubes máximo\n",
    "THRESHOLDS = {                                         # ← umbrales para métricas de area\n",
    "    'NDVI': [0.40, 0.60],\n",
    "    'NDWI': [0.05],\n",
    "    'NDRE': [0.30]\n",
    "}"
   ]
  },
  {
   "cell_type": "code",
   "execution_count": 2,
   "id": "92d6245e",
   "metadata": {},
   "outputs": [
    {
     "data": {
      "text/html": [
       "\n",
       "            <style>\n",
       "                .geemap-dark {\n",
       "                    --jp-widgets-color: white;\n",
       "                    --jp-widgets-label-color: white;\n",
       "                    --jp-ui-font-color1: white;\n",
       "                    --jp-layout-color2: #454545;\n",
       "                    background-color: #383838;\n",
       "                }\n",
       "\n",
       "                .geemap-dark .jupyter-button {\n",
       "                    --jp-layout-color3: #383838;\n",
       "                }\n",
       "\n",
       "                .geemap-colab {\n",
       "                    background-color: var(--colab-primary-surface-color, white);\n",
       "                }\n",
       "\n",
       "                .geemap-colab .jupyter-button {\n",
       "                    --jp-layout-color3: var(--colab-primary-surface-color, white);\n",
       "                }\n",
       "            </style>\n",
       "            "
      ],
      "text/plain": [
       "<IPython.core.display.HTML object>"
      ]
     },
     "metadata": {},
     "output_type": "display_data"
    },
    {
     "name": "stderr",
     "output_type": "stream",
     "text": [
      "Skipping field icon-offset: unsupported OGR type: 1\n",
      "Skipping field icon-offset-units: unsupported OGR type: 5\n"
     ]
    }
   ],
   "source": [
    "# ──────────────────────────────────────────────────────────────\n",
    "# BLOQUE 2 — CONECTARSE A EARTH ENGINE Y LEER EL AOI\n",
    "# ──────────────────────────────────────────────────────────────\n",
    "\n",
    "ee.Authenticate()\n",
    "ee.Initialize()\n",
    "\n",
    "# Leer AOI como FeatureCollection de EE\n",
    "aoi_gdf = gpd.read_file(AOI_GEOJSON)\n",
    "aoi_fc  = geemap.geopandas_to_ee(aoi_gdf)\n",
    "aoi_geom = aoi_fc.geometry()\n"
   ]
  },
  {
   "cell_type": "code",
   "execution_count": 3,
   "id": "ff355762",
   "metadata": {},
   "outputs": [
    {
     "data": {
      "text/html": [
       "\n",
       "            <style>\n",
       "                .geemap-dark {\n",
       "                    --jp-widgets-color: white;\n",
       "                    --jp-widgets-label-color: white;\n",
       "                    --jp-ui-font-color1: white;\n",
       "                    --jp-layout-color2: #454545;\n",
       "                    background-color: #383838;\n",
       "                }\n",
       "\n",
       "                .geemap-dark .jupyter-button {\n",
       "                    --jp-layout-color3: #383838;\n",
       "                }\n",
       "\n",
       "                .geemap-colab {\n",
       "                    background-color: var(--colab-primary-surface-color, white);\n",
       "                }\n",
       "\n",
       "                .geemap-colab .jupyter-button {\n",
       "                    --jp-layout-color3: var(--colab-primary-surface-color, white);\n",
       "                }\n",
       "            </style>\n",
       "            "
      ],
      "text/plain": [
       "<IPython.core.display.HTML object>"
      ]
     },
     "metadata": {},
     "output_type": "display_data"
    }
   ],
   "source": [
    "# ──────────────────────────────────────────────────────────────\n",
    "# BLOQUE 3 — CONSTRUIR LA COLECCION DE IMAGENES\n",
    "# ──────────────────────────────────────────────────────────────\n",
    "\n",
    "# Sentinel-2 SR con filtros básicos\n",
    "# stack of images\n",
    "s2 = (ee.ImageCollection('COPERNICUS/S2_SR_HARMONIZED') # \"SR\" = Surface Reflectance → atmospherically corrected → best for vegetation indices.\n",
    "      .filterBounds(aoi_geom)\n",
    "      .filterDate(DATE_START, DATE_END)\n",
    "      .filter(ee.Filter.lt('CLOUDY_PIXEL_PERCENTAGE', CLOUD_MAX_PCT)))\n",
    "\n",
    "# Añadir índices a cada imagen\n",
    "def add_indices(img):\n",
    "    ndvi  = img.normalizedDifference(['B8',  'B4']).rename('NDVI')\n",
    "    ndre  = img.normalizedDifference(['B8',  'B5']).rename('NDRE')\n",
    "    gndvi = img.normalizedDifference(['B8',  'B3']).rename('GNDVI')\n",
    "    ndwi  = img.normalizedDifference(['B8', 'B11']).rename('NDWI')\n",
    "    savi  = img.expression(\n",
    "        '((NIR - RED) / (NIR + RED + L)) * (1 + L)',\n",
    "        {'NIR': img.select('B8'), 'RED': img.select('B4'), 'L': 0.5}\n",
    "    ).rename('SAVI')\n",
    "    return (img.addBands([ndvi, ndre, gndvi, ndwi, savi])\n",
    "               .copyProperties(img, ['system:time_start']))\n",
    "\n",
    "idx_col = (s2.map(add_indices)\n",
    "             .sort('system:time_start', True))  # oldest→newest"
   ]
  },
  {
   "cell_type": "code",
   "execution_count": 4,
   "id": "e24c6c86",
   "metadata": {},
   "outputs": [
    {
     "data": {
      "text/html": [
       "\n",
       "            <style>\n",
       "                .geemap-dark {\n",
       "                    --jp-widgets-color: white;\n",
       "                    --jp-widgets-label-color: white;\n",
       "                    --jp-ui-font-color1: white;\n",
       "                    --jp-layout-color2: #454545;\n",
       "                    background-color: #383838;\n",
       "                }\n",
       "\n",
       "                .geemap-dark .jupyter-button {\n",
       "                    --jp-layout-color3: #383838;\n",
       "                }\n",
       "\n",
       "                .geemap-colab {\n",
       "                    background-color: var(--colab-primary-surface-color, white);\n",
       "                }\n",
       "\n",
       "                .geemap-colab .jupyter-button {\n",
       "                    --jp-layout-color3: var(--colab-primary-surface-color, white);\n",
       "                }\n",
       "            </style>\n",
       "            "
      ],
      "text/plain": [
       "<IPython.core.display.HTML object>"
      ]
     },
     "metadata": {},
     "output_type": "display_data"
    }
   ],
   "source": [
    "# ──────────────────────────────────────────────────────────────\n",
    "# BLOQUE 4 — COMPUTAR ESTADISTICAS POR IMAGEN\n",
    "# ──────────────────────────────────────────────────────────────\n",
    "\n",
    "\n",
    "# Mean, Min, Max, Std of each index → \"how the field is doing overall\"\n",
    "# Area (km²) where index > threshold → \"how much of my field is green / healthy / well watered\"\n",
    "def img_stats(img):\n",
    "    props = {'date': img.date().format('YYYY-MM-dd')}\n",
    "    for band in ['NDVI', 'NDRE', 'GNDVI', 'NDWI', 'SAVI']:\n",
    "        b = img.select(band)\n",
    "        stats = b.reduceRegion(\n",
    "            reducer = ee.Reducer.mean()\n",
    "                       .combine(ee.Reducer.min(),  sharedInputs=True)\n",
    "                       .combine(ee.Reducer.max(),  sharedInputs=True)\n",
    "                       .combine(ee.Reducer.stdDev(), sharedInputs=True),\n",
    "            geometry = aoi_geom,\n",
    "            scale    = 10,\n",
    "            maxPixels = 1e13\n",
    "        )\n",
    "        props.update({\n",
    "            f'{band}_mean':  stats.get('NDVI' if band=='NDVI' else band, ee.Number(0)),\n",
    "            f'{band}_min' :  stats.get(f'{band}_min', ee.Number(0)),\n",
    "            f'{band}_max' :  stats.get(f'{band}_max', ee.Number(0)),\n",
    "            f'{band}_std' :  stats.get(f'{band}_stdDev', ee.Number(0))\n",
    "        })\n",
    "        # areas por umbral\n",
    "        if band in THRESHOLDS:\n",
    "            for thr in THRESHOLDS[band]:\n",
    "                mask       = b.gt(thr)\n",
    "                area_m2    = mask.multiply(ee.Image.pixelArea())\\\n",
    "                                .reduceRegion(\n",
    "                                    reducer=ee.Reducer.sum(),\n",
    "                                    geometry=aoi_geom,\n",
    "                                    scale   =10,\n",
    "                                    maxPixels=1e13\n",
    "                                ).get(mask.bandNames().get(0), ee.Number(0))\n",
    "                # convert thr to safe string (replace dot with underscore)\n",
    "                thr_str = str(thr).replace('.', '_')\n",
    "                props[f'area_{band}_{thr_str}'] = area_m2\n",
    "\n",
    "    return ee.Feature(None, props)\n",
    "\n",
    "\n",
    "# Mapear sobre la colección completa\n",
    "# idx_col = Sentinel-2 ImageCollection → each image has:\n",
    "#     - bands B2-B12\n",
    "#     - indices: NDVI, NDRE, GNDVI, NDWI, SAVI\n",
    "#     + {'date', 'NDVI_mean', 'NDVI_min', ..., 'area_NDVI_0_4', ...}\n",
    "\n",
    "stats_fc   = idx_col.map(img_stats)  \n",
    "stats_dict = [f['properties'] for f in stats_fc.getInfo()['features']]"
   ]
  },
  {
   "cell_type": "code",
   "execution_count": 5,
   "id": "7cae72a6",
   "metadata": {},
   "outputs": [
    {
     "data": {
      "text/html": [
       "\n",
       "            <style>\n",
       "                .geemap-dark {\n",
       "                    --jp-widgets-color: white;\n",
       "                    --jp-widgets-label-color: white;\n",
       "                    --jp-ui-font-color1: white;\n",
       "                    --jp-layout-color2: #454545;\n",
       "                    background-color: #383838;\n",
       "                }\n",
       "\n",
       "                .geemap-dark .jupyter-button {\n",
       "                    --jp-layout-color3: #383838;\n",
       "                }\n",
       "\n",
       "                .geemap-colab {\n",
       "                    background-color: var(--colab-primary-surface-color, white);\n",
       "                }\n",
       "\n",
       "                .geemap-colab .jupyter-button {\n",
       "                    --jp-layout-color3: var(--colab-primary-surface-color, white);\n",
       "                }\n",
       "            </style>\n",
       "            "
      ],
      "text/plain": [
       "<IPython.core.display.HTML object>"
      ]
     },
     "metadata": {},
     "output_type": "display_data"
    },
    {
     "name": "stdout",
     "output_type": "stream",
     "text": [
      "✅ Exportados 55 registros a ../output/dashboard/time_series_stats.(json|csv)\n"
     ]
    }
   ],
   "source": [
    "# ──────────────────────────────────────────────────────────────\n",
    "# BLOQUE 5 — CONVERTIR A DATAFRAME Y GUARDAR\n",
    "# ──────────────────────────────────────────────────────────────\n",
    "\n",
    "# DataFrame ordenado por fecha\n",
    "df = pd.DataFrame(stats_dict)\n",
    "df['date'] = pd.to_datetime(df['date'])\n",
    "df = df.sort_values('date')\n",
    "\n",
    "# Conversión de áreas a km²\n",
    "for col in df.columns:\n",
    "    if col.startswith('area_'):\n",
    "        df[col] = df[col].astype(float) / 1e6   # m² → km²\n",
    "\n",
    "# Guardar\n",
    "out_dir = '../output/dashboard'\n",
    "os.makedirs(out_dir, exist_ok=True)\n",
    "df.to_json(f'{out_dir}/time_series_stats.json', orient='records', date_format='iso')\n",
    "df.to_csv (f'{out_dir}/time_series_stats.csv', index=False)\n",
    "\n",
    "print(f'✅ Exportados {len(df)} registros a {out_dir}/time_series_stats.(json|csv)')"
   ]
  }
 ],
 "metadata": {
  "kernelspec": {
   "display_name": "sat",
   "language": "python",
   "name": "python3"
  },
  "language_info": {
   "codemirror_mode": {
    "name": "ipython",
    "version": 3
   },
   "file_extension": ".py",
   "mimetype": "text/x-python",
   "name": "python",
   "nbconvert_exporter": "python",
   "pygments_lexer": "ipython3",
   "version": "3.13.2"
  }
 },
 "nbformat": 4,
 "nbformat_minor": 5
}
